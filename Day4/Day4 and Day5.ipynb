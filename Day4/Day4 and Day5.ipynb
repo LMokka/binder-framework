{
 "cells": [
  {
   "cell_type": "markdown",
   "id": "0c00d439",
   "metadata": {},
   "source": [
    "How many different companies are represented in the data set?\n",
    "What is the total number of jobs created for businesses in Queens?\n",
    "How many different unique email domains names are there in the data set?\n",
    "Considering only NTAs with at least 5 listed businesses, what is the average total savings and the total jobs created for each NTA?\n",
    "Save your result for the previous question as a CSV file."
   ]
  },
  {
   "cell_type": "code",
   "execution_count": 137,
   "id": "4b6a742e",
   "metadata": {},
   "outputs": [],
   "source": [
    "import pandas as pd\n",
    "import numpy as np\n",
    "import matplotlib.pyplot as plt"
   ]
  },
  {
   "cell_type": "code",
   "execution_count": 138,
   "id": "1a976525",
   "metadata": {},
   "outputs": [],
   "source": [
    "value = pd.read_csv('value.csv')"
   ]
  },
  {
   "cell_type": "markdown",
   "id": "2553c27b",
   "metadata": {},
   "source": [
    "How many different companies are represented in the data set?"
   ]
  },
  {
   "cell_type": "code",
   "execution_count": 139,
   "id": "d294ca63",
   "metadata": {},
   "outputs": [
    {
     "name": "stdout",
     "output_type": "stream",
     "text": [
      "439\n"
     ]
    }
   ],
   "source": [
    "print(len(pd.unique(value['Company Name'])))"
   ]
  },
  {
   "cell_type": "markdown",
   "id": "576aa05e",
   "metadata": {},
   "source": [
    "What is the total number of jobs created for businesses in Queens? In order to get calculate this, one must first filter by City = 'Queens' and then count the total in 'job created'.  "
   ]
  },
  {
   "cell_type": "code",
   "execution_count": 140,
   "id": "2f07b24b",
   "metadata": {},
   "outputs": [],
   "source": [
    "queens = value[value['City'] == 'Queens']"
   ]
  },
  {
   "cell_type": "code",
   "execution_count": 141,
   "id": "7d0f3c47",
   "metadata": {},
   "outputs": [],
   "source": [
    "sumjobcreated = queens['Job created'].sum()"
   ]
  },
  {
   "cell_type": "code",
   "execution_count": 142,
   "id": "b0d872f8",
   "metadata": {},
   "outputs": [
    {
     "name": "stdout",
     "output_type": "stream",
     "text": [
      "90.0\n"
     ]
    }
   ],
   "source": [
    "print(sumjobcreated)"
   ]
  },
  {
   "cell_type": "markdown",
   "id": "71ef0d14",
   "metadata": {},
   "source": [
    " How many different unique email domains names are there in the data set?"
   ]
  },
  {
   "cell_type": "code",
   "execution_count": 143,
   "id": "90675a82",
   "metadata": {},
   "outputs": [],
   "source": [
    "email = value['company email']"
   ]
  },
  {
   "cell_type": "code",
   "execution_count": 144,
   "id": "ae60bfeb",
   "metadata": {},
   "outputs": [
    {
     "name": "stdout",
     "output_type": "stream",
     "text": [
      "0         eskoblo@energyspec.com\n",
      "1                            NaN\n",
      "2                            NaN\n",
      "3      akimball@industrycity.com\n",
      "4          clettich@silvprop.com\n",
      "                 ...            \n",
      "445     donaldlau@wontonfood.com\n",
      "446         brawnworks@gmail.com\n",
      "447             sheidya@wwps.com\n",
      "448       keren@wudfurniture.com\n",
      "449         bill.popp@wurtec.com\n",
      "Name: company email, Length: 450, dtype: object\n"
     ]
    }
   ],
   "source": [
    "print(email)"
   ]
  },
  {
   "cell_type": "code",
   "execution_count": 145,
   "id": "d75051cc",
   "metadata": {},
   "outputs": [],
   "source": [
    "email = email.dropna()"
   ]
  },
  {
   "cell_type": "code",
   "execution_count": 146,
   "id": "3e559848",
   "metadata": {},
   "outputs": [
    {
     "name": "stdout",
     "output_type": "stream",
     "text": [
      "0         eskoblo@energyspec.com\n",
      "3      akimball@industrycity.com\n",
      "4          clettich@silvprop.com\n",
      "5          jmccalla@silvprop.com\n",
      "6              barbara@dial7.com\n",
      "                 ...            \n",
      "445     donaldlau@wontonfood.com\n",
      "446         brawnworks@gmail.com\n",
      "447             sheidya@wwps.com\n",
      "448       keren@wudfurniture.com\n",
      "449         bill.popp@wurtec.com\n",
      "Name: company email, Length: 433, dtype: object\n"
     ]
    }
   ],
   "source": [
    "print(email)"
   ]
  },
  {
   "cell_type": "code",
   "execution_count": 147,
   "id": "b25e4d62",
   "metadata": {},
   "outputs": [
    {
     "name": "stdout",
     "output_type": "stream",
     "text": [
      "433\n"
     ]
    }
   ],
   "source": [
    "print(len(email))"
   ]
  },
  {
   "cell_type": "code",
   "execution_count": 148,
   "id": "15d84783",
   "metadata": {},
   "outputs": [
    {
     "data": {
      "text/plain": [
       "0       eskoblo@energyspec.com\n",
       "3    akimball@industrycity.com\n",
       "4        clettich@silvprop.com\n",
       "5        jmccalla@silvprop.com\n",
       "6            barbara@dial7.com\n",
       "Name: company email, dtype: object"
      ]
     },
     "execution_count": 148,
     "metadata": {},
     "output_type": "execute_result"
    }
   ],
   "source": [
    "email.head()"
   ]
  },
  {
   "cell_type": "code",
   "execution_count": 149,
   "id": "6fa3d6dd",
   "metadata": {},
   "outputs": [],
   "source": [
    "value[['name','domain']] = email.str.split(\"@\", n=1, expand=True)"
   ]
  },
  {
   "cell_type": "code",
   "execution_count": 150,
   "id": "ab447d03",
   "metadata": {},
   "outputs": [
    {
     "name": "stdout",
     "output_type": "stream",
     "text": [
      "                               Company Name    company contact  \\\n",
      "0                            1 State Street      David Neiburg   \n",
      "1                            100 Church LLC  Edward A. Carroll   \n",
      "2                      100 Wall Investments       Jerry Branam   \n",
      "3               1-10 Bush Terminal Owner LP     Andrew Kimball   \n",
      "4  120 Broadway Acquisitions JV, LLC (Ldmk)        Carl Letich   \n",
      "\n",
      "               company email company phone                Address      City  \\\n",
      "0     eskoblo@energyspec.com    7186779077          1114 Avenue J  Brooklyn   \n",
      "1                        NaN    2125663000      100 Church Street        NY   \n",
      "2                        NaN    2122487160         96 Wall Street  New York   \n",
      "3  akimball@industrycity.com    3474178429  220 36th St, Suite 2A  Brooklyn   \n",
      "4      clettich@silvprop.com    2124064020           120 Broadway  New York   \n",
      "\n",
      "  State  Postcode    Industry  \\\n",
      "0    NY     11230  Commercial   \n",
      "1    NY     10007  Commercial   \n",
      "2    NY     10005    Landlord   \n",
      "3    NY     11232    Landlord   \n",
      "4    NY     10271  Commercial   \n",
      "\n",
      "                                      Industry descr  ...   Latitude  \\\n",
      "0                                  35 story building  ...  40.624784   \n",
      "1                                          21 Floors  ...  40.712968   \n",
      "2                                                NaN  ...  40.705052   \n",
      "3  Special Eligible Premises for eligible businesses  ...  40.656061   \n",
      "4                                                NaN  ...  40.708546   \n",
      "\n",
      "   Longitude  Community Board  Council District Census Tract        BIN  \\\n",
      "0 -73.964920            314.0              44.0        534.0  3179818.0   \n",
      "1 -74.009490            101.0               1.0         21.0  1001409.0   \n",
      "2 -74.007199            101.0               1.0          7.0  1000875.0   \n",
      "3 -74.007334            307.0              38.0          2.0  3398687.0   \n",
      "4 -74.011041            101.0               1.0          7.0  1001026.0   \n",
      "\n",
      "            BBL                                     NTA      name  \\\n",
      "0  3.067130e+09                                 Midwood   eskoblo   \n",
      "1  1.001250e+09  SoHo-TriBeCa-Civic Center-Little Italy       NaN   \n",
      "2  1.000380e+09       Battery Park City-Lower Manhattan       NaN   \n",
      "3  3.006950e+09                        Sunset Park West  akimball   \n",
      "4  1.000478e+09       Battery Park City-Lower Manhattan  clettich   \n",
      "\n",
      "             domain  \n",
      "0    energyspec.com  \n",
      "1               NaN  \n",
      "2               NaN  \n",
      "3  industrycity.com  \n",
      "4      silvprop.com  \n",
      "\n",
      "[5 rows x 28 columns]\n"
     ]
    }
   ],
   "source": [
    "print(value.head())"
   ]
  },
  {
   "cell_type": "code",
   "execution_count": 151,
   "id": "8ad5bbaf",
   "metadata": {},
   "outputs": [],
   "source": [
    "domain = value['domain']"
   ]
  },
  {
   "cell_type": "code",
   "execution_count": 152,
   "id": "815664c7",
   "metadata": {},
   "outputs": [],
   "source": [
    "domain = domain.dropna()"
   ]
  },
  {
   "cell_type": "code",
   "execution_count": 153,
   "id": "043c913d",
   "metadata": {},
   "outputs": [
    {
     "name": "stdout",
     "output_type": "stream",
     "text": [
      "428\n"
     ]
    }
   ],
   "source": [
    "print(len(domain))"
   ]
  },
  {
   "cell_type": "code",
   "execution_count": 154,
   "id": "1ded6275",
   "metadata": {},
   "outputs": [
    {
     "name": "stdout",
     "output_type": "stream",
     "text": [
      "0        energyspec.com\n",
      "3      industrycity.com\n",
      "4          silvprop.com\n",
      "5          silvprop.com\n",
      "6             dial7.com\n",
      "             ...       \n",
      "445      wontonfood.com\n",
      "446           gmail.com\n",
      "447            wwps.com\n",
      "448    wudfurniture.com\n",
      "449          wurtec.com\n",
      "Name: domain, Length: 428, dtype: object\n"
     ]
    }
   ],
   "source": [
    "print(domain)"
   ]
  },
  {
   "cell_type": "code",
   "execution_count": 155,
   "id": "77afe734",
   "metadata": {},
   "outputs": [
    {
     "name": "stdout",
     "output_type": "stream",
     "text": [
      "356\n"
     ]
    }
   ],
   "source": [
    "print(len(pd.unique(domain)))"
   ]
  },
  {
   "cell_type": "markdown",
   "id": "351526b4",
   "metadata": {},
   "source": [
    "Considering only NTAs with at least 5 listed businesses, what is the average total savings and the total jobs created for each NTA? Save your result for the previous question as a CSV file."
   ]
  },
  {
   "cell_type": "code",
   "execution_count": 156,
   "id": "e4e94079",
   "metadata": {},
   "outputs": [],
   "source": [
    "result = value[['Company Name','NTA','Total Savings','Job created']]"
   ]
  },
  {
   "cell_type": "code",
   "execution_count": 157,
   "id": "3b315b80",
   "metadata": {},
   "outputs": [],
   "source": [
    "result1 = result[result['NTA'].map(result['NTA'].value_counts())>5]"
   ]
  },
  {
   "cell_type": "code",
   "execution_count": 158,
   "id": "86174631",
   "metadata": {},
   "outputs": [
    {
     "name": "stdout",
     "output_type": "stream",
     "text": [
      "                               Company Name  \\\n",
      "2                      100 Wall Investments   \n",
      "3               1-10 Bush Terminal Owner LP   \n",
      "4  120 Broadway Acquisitions JV, LLC (Ldmk)   \n",
      "5                      120 Wall Street, LLC   \n",
      "6                      139 ACA Realty, Inc.   \n",
      "\n",
      "                                    NTA  Total Savings  Job created  \n",
      "2     Battery Park City-Lower Manhattan      302959.40          NaN  \n",
      "3                      Sunset Park West        2159.67          NaN  \n",
      "4     Battery Park City-Lower Manhattan      922407.32          NaN  \n",
      "5     Battery Park City-Lower Manhattan      368601.17          NaN  \n",
      "6  Hunters Point-Sunnyside-West Maspeth        1637.29          NaN  \n"
     ]
    }
   ],
   "source": [
    "print(result1.head())"
   ]
  },
  {
   "cell_type": "code",
   "execution_count": 159,
   "id": "117685e2",
   "metadata": {},
   "outputs": [
    {
     "name": "stdout",
     "output_type": "stream",
     "text": [
      "62113.34333333333\n"
     ]
    }
   ],
   "source": [
    "Bedfordsavingsmean = result[result['NTA']=='Bedford']['Total Savings'].mean()\n",
    "print(Bedfordsavingsmean)"
   ]
  },
  {
   "cell_type": "code",
   "execution_count": 160,
   "id": "e38dd155",
   "metadata": {},
   "outputs": [
    {
     "name": "stdout",
     "output_type": "stream",
     "text": [
      "0.0\n"
     ]
    }
   ],
   "source": [
    "Bedfordjobcreated=result[result['NTA']=='Bedford']['Job created'].sum()\n",
    "print(Bedfordjobcreated)"
   ]
  },
  {
   "cell_type": "code",
   "execution_count": 161,
   "id": "6cfa09e7",
   "metadata": {
    "scrolled": true
   },
   "outputs": [
    {
     "name": "stdout",
     "output_type": "stream",
     "text": [
      "NTA\n",
      "Battery Park City-Lower Manhattan                   469890.796667\n",
      "Bushwick South                                       26140.455000\n",
      "Carroll Gardens-Columbia Street-Red Hook             24337.390000\n",
      "College Point                                        17159.372857\n",
      "Crown Heights North                                   4036.298889\n",
      "DUMBO-Vinegar Hill-Downtown Brooklyn-Boerum Hill     59950.340000\n",
      "East New York                                        48433.093333\n",
      "East Williamsburg                                    13990.626364\n",
      "Greenpoint                                            9753.649286\n",
      "Hunters Point-Sunnyside-West Maspeth                 23931.398933\n",
      "Hunts Point                                          39246.016154\n",
      "Manhattanville                                        2760.888889\n",
      "Maspeth                                               6658.283333\n",
      "Mott Haven-Port Morris                               17843.937857\n",
      "Queensbridge-Ravenswood-Long Island City             61830.770625\n",
      "Steinway                                             11227.155714\n",
      "Sunset Park West                                     14316.976875\n",
      "park-cemetery-etc-Brooklyn                           14327.419333\n",
      "Name: Total Savings, dtype: float64\n"
     ]
    }
   ],
   "source": [
    "savingsmean = result1.groupby('NTA')['Total Savings'].mean()\n",
    "print(savingsmean)"
   ]
  },
  {
   "cell_type": "code",
   "execution_count": 162,
   "id": "6bdd854b",
   "metadata": {
    "scrolled": false
   },
   "outputs": [
    {
     "name": "stdout",
     "output_type": "stream",
     "text": [
      "NTA\n",
      "Battery Park City-Lower Manhattan                    0.0\n",
      "Bushwick South                                      10.0\n",
      "Carroll Gardens-Columbia Street-Red Hook             0.0\n",
      "College Point                                        2.0\n",
      "Crown Heights North                                  0.0\n",
      "DUMBO-Vinegar Hill-Downtown Brooklyn-Boerum Hill     0.0\n",
      "East New York                                       15.0\n",
      "East Williamsburg                                    0.0\n",
      "Greenpoint                                           0.0\n",
      "Hunters Point-Sunnyside-West Maspeth                 0.0\n",
      "Hunts Point                                         12.0\n",
      "Manhattanville                                       0.0\n",
      "Maspeth                                             10.0\n",
      "Mott Haven-Port Morris                              10.0\n",
      "Queensbridge-Ravenswood-Long Island City             0.0\n",
      "Steinway                                            20.0\n",
      "Sunset Park West                                     0.0\n",
      "park-cemetery-etc-Brooklyn                           0.0\n",
      "Name: Job created, dtype: float64\n"
     ]
    }
   ],
   "source": [
    "jobcreated = result1.groupby('NTA')['Job created'].sum()\n",
    "print(jobcreated)"
   ]
  },
  {
   "cell_type": "markdown",
   "id": "d98b28e7",
   "metadata": {},
   "source": [
    "Now we need to import \"savingsmean\" and \"jobcreated\" to a csv file"
   ]
  },
  {
   "cell_type": "code",
   "execution_count": 163,
   "id": "6cd447a0",
   "metadata": {},
   "outputs": [],
   "source": [
    "savingsmean.to_csv('answer4.csv')"
   ]
  },
  {
   "cell_type": "code",
   "execution_count": 164,
   "id": "f48ba25a",
   "metadata": {},
   "outputs": [],
   "source": [
    "jobcreated.to_csv('answer4b.csv')"
   ]
  },
  {
   "cell_type": "markdown",
   "id": "a0391461",
   "metadata": {},
   "source": [
    "Day5\n",
    "\n",
    "Using the same data set and results that you were working with in the pandas action items section (Day 4), create a\n",
    "scatter plot of jobs created (y-axis) versus average savings (x-axis). Use both a standard and a logarithmic scale for the average savings.\n",
    "histogram of the log of the average total savings.\n",
    "line plot of the total jobs created for each month."
   ]
  },
  {
   "cell_type": "code",
   "execution_count": 174,
   "id": "63de4c1d",
   "metadata": {},
   "outputs": [
    {
     "data": {
      "text/plain": [
       "<function matplotlib.pyplot.show(close=None, block=None)>"
      ]
     },
     "execution_count": 174,
     "metadata": {},
     "output_type": "execute_result"
    },
    {
     "data": {
      "image/png": "[encoded data removed]",
      "text/plain": [
       "<Figure size 432x288 with 1 Axes>"
      ]
     },
     "metadata": {
      "needs_background": "light"
     },
     "output_type": "display_data"
    }
   ],
   "source": [
    "#Use the following code to create a scatter plot.\n",
    "plt.scatter(savingsmean, jobcreated)\n",
    "plt.xlabel('Average Savings')\n",
    "plt.ylabel('Jobs Created')\n",
    "plt.show"
   ]
  },
  {
   "cell_type": "code",
   "execution_count": 175,
   "id": "805af03b",
   "metadata": {},
   "outputs": [
    {
     "data": {
      "text/plain": [
       "<function matplotlib.pyplot.show(close=None, block=None)>"
      ]
     },
     "execution_count": 175,
     "metadata": {},
     "output_type": "execute_result"
    },
    {
     "data": {
      "image/png": "[encoded data removed]",
      "text/plain": [
       "<Figure size 432x288 with 1 Axes>"
      ]
     },
     "metadata": {
      "needs_background": "light"
     },
     "output_type": "display_data"
    }
   ],
   "source": [
    "log_savingsmean = np.log10(savingsmean)\n",
    "plt.scatter(log_savingsmean, jobcreated)\n",
    "plt.xlabel('Log Average Savings')\n",
    "plt.ylabel('Jobs Created')\n",
    "plt.show"
   ]
  },
  {
   "cell_type": "code",
   "execution_count": 176,
   "id": "4185ab49",
   "metadata": {},
   "outputs": [
    {
     "data": {
      "image/png": "[encoded data removed]",
      "text/plain": [
       "<Figure size 432x288 with 1 Axes>"
      ]
     },
     "metadata": {
      "needs_background": "light"
     },
     "output_type": "display_data"
    }
   ],
   "source": [
    "plt.hist(log_savingsmean)\n",
    "plt.show()"
   ]
  },
  {
   "cell_type": "code",
   "execution_count": 177,
   "id": "6fe1ee8d",
   "metadata": {},
   "outputs": [
    {
     "data": {
      "text/plain": [
       "<function matplotlib.pyplot.show(close=None, block=None)>"
      ]
     },
     "execution_count": 177,
     "metadata": {},
     "output_type": "execute_result"
    },
    {
     "data": {
      "image/png": "[encoded data removed]",
      "text/plain": [
       "<Figure size 432x288 with 1 Axes>"
      ]
     },
     "metadata": {
      "needs_background": "light"
     },
     "output_type": "display_data"
    }
   ],
   "source": [
    "plt.plot(savingsmean, jobcreated)\n",
    "plt.xlabel('Average Savings')\n",
    "plt.ylabel('Jobs Created')\n",
    "plt.show"
   ]
  }
 ],
 "metadata": {
  "kernelspec": {
   "display_name": "Python 3",
   "language": "python",
   "name": "python3"
  },
  "language_info": {
   "codemirror_mode": {
    "name": "ipython",
    "version": 3
   },
   "file_extension": ".py",
   "mimetype": "text/x-python",
   "name": "python",
   "nbconvert_exporter": "python",
   "pygments_lexer": "ipython3",
   "version": "3.8.8"
  }
 },
 "nbformat": 4,
 "nbformat_minor": 5
}
